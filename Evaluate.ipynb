{
  "nbformat": 4,
  "nbformat_minor": 0,
  "metadata": {
    "colab": {
      "name": "Evaluate.ipynb",
      "provenance": [],
      "collapsed_sections": [],
      "toc_visible": true
    },
    "kernelspec": {
      "name": "python3",
      "display_name": "Python 3"
    }
  },
  "cells": [
    {
      "cell_type": "code",
      "metadata": {
        "id": "u5JgjBIVnlK8",
        "colab_type": "code",
        "colab": {
          "base_uri": "https://localhost:8080/",
          "height": 35
        },
        "outputId": "ebd68f8c-2780-49dc-ff13-ebafd5211d15"
      },
      "source": [
        "from google.colab import drive\n",
        "drive.mount('/content/drive', force_remount=True)"
      ],
      "execution_count": null,
      "outputs": [
        {
          "output_type": "stream",
          "text": [
            "Mounted at /content/drive\n"
          ],
          "name": "stdout"
        }
      ]
    },
    {
      "cell_type": "code",
      "metadata": {
        "id": "XgerUx0kSAnl",
        "colab_type": "code",
        "colab": {}
      },
      "source": [
        "import numpy.ma as ma\n",
        "import matplotlib.pyplot as plt\n",
        "%matplotlib inline"
      ],
      "execution_count": null,
      "outputs": []
    },
    {
      "cell_type": "code",
      "metadata": {
        "id": "WbT8NSDBa30w",
        "colab_type": "code",
        "colab": {}
      },
      "source": [
        "import numpy as np"
      ],
      "execution_count": null,
      "outputs": []
    },
    {
      "cell_type": "markdown",
      "metadata": {
        "id": "xkEKk_nwiGbP",
        "colab_type": "text"
      },
      "source": [
        "# Model"
      ]
    },
    {
      "cell_type": "code",
      "metadata": {
        "id": "LohIADt_gThA",
        "colab_type": "code",
        "colab": {}
      },
      "source": [
        "from tensorflow.python.keras import Sequential\n",
        "from tensorflow.keras.layers import Conv2D, Masking, add, Activation\n",
        "from tensorflow.keras.optimizers import Adam, SGD\n",
        "from tensorflow.keras.callbacks import ModelCheckpoint\n",
        "from tensorflow.keras.losses import MeanSquaredError, MeanAbsoluteError\n",
        "from tensorflow.keras.metrics import RootMeanSquaredError\n",
        "from tensorflow.keras.models import Model\n",
        "from tensorflow.keras import backend as K\n",
        "from tensorflow import image\n",
        "from tensorflow import float32\n",
        "from tensorflow.keras import Input"
      ],
      "execution_count": null,
      "outputs": []
    },
    {
      "cell_type": "code",
      "metadata": {
        "id": "gqkmtJdRyzbM",
        "colab_type": "code",
        "colab": {}
      },
      "source": [
        "input_shape=(66,66,1)\n",
        "# input_shape=(50,50,1)\n",
        "batch_size=64"
      ],
      "execution_count": null,
      "outputs": []
    },
    {
      "cell_type": "code",
      "metadata": {
        "id": "Lq_YH4VlSNST",
        "colab_type": "code",
        "colab": {}
      },
      "source": [
        "def PSNRLoss(y_true, y_pred):\n",
        "    \"\"\"\n",
        "    PSNR is Peek Signal to Noise Ratio, which is similar to mean squared error.\n",
        "    It can be calculated as\n",
        "    PSNR = 20 * log10(MAXp) - 10 * log10(MSE)\n",
        "    When providing an unscaled input, MAXp = 255. Therefore 20 * log10(255)== 48.1308036087.\n",
        "    However, since we are scaling our input, MAXp = 1. Therefore 20 * log10(1) = 0.\n",
        "    Thus we remove that component completely and only compute the remaining MSE component.\n",
        "    \"\"\"\n",
        "    y_true=K.clip(y_true, 0, 1)\n",
        "    y_pred=K.clip(y_pred, 0, 1)\n",
        "    # print (type(y_true))\n",
        "    im1 = image.convert_image_dtype(y_true, float32)\n",
        "    im2 = image.convert_image_dtype(y_pred, float32)\n",
        "    return -10. * K.log(K.mean(K.square(im2 - im1))) / K.log(10.)"
      ],
      "execution_count": null,
      "outputs": []
    },
    {
      "cell_type": "markdown",
      "metadata": {
        "id": "dqemIoCHE10J",
        "colab_type": "text"
      },
      "source": [
        "## SRCNN"
      ]
    },
    {
      "cell_type": "code",
      "metadata": {
        "id": "O8_ODb4HzN4X",
        "colab_type": "code",
        "colab": {}
      },
      "source": [
        "input_img = Input(shape=input_shape)\n",
        "\n",
        "model = Conv2D(64, (9, 9), padding=\"same\")(input_img)\n",
        "\n",
        "model= Conv2D(32, kernel_size=(3, 3), activation='relu', padding='same')(model)\n",
        "\n",
        "model= Conv2D(1, kernel_size=(5, 5), activation='relu', padding='same')(model)\n",
        "\n",
        "res_img = model\n",
        "output_img = add([res_img, input_img])\n",
        "model = Model(input_img, output_img)\n",
        "\n",
        "\n",
        "model.compile(loss=rmse,\n",
        "              optimizer=Adam(),\n",
        "              # metrics=['accuracy'])\n",
        "              metrics=[PSNRLoss])"
      ],
      "execution_count": null,
      "outputs": []
    },
    {
      "cell_type": "markdown",
      "metadata": {
        "id": "i-TKKppmE4Ee",
        "colab_type": "text"
      },
      "source": [
        "## VDSR"
      ]
    },
    {
      "cell_type": "code",
      "metadata": {
        "id": "ZjofSrnbkgb0",
        "colab_type": "code",
        "colab": {}
      },
      "source": [
        "input_img = Input(shape=input_shape)\n",
        "\n",
        "model = Conv2D(64, (3, 3), padding='same', kernel_initializer='he_normal')(input_img)\n",
        "model = Activation('relu')(model)\n",
        "model = Conv2D(64, (3, 3), padding='same', kernel_initializer='he_normal')(model)\n",
        "model = Activation('relu')(model)\n",
        "model = Conv2D(64, (3, 3), padding='same', kernel_initializer='he_normal')(model)\n",
        "model = Activation('relu')(model)\n",
        "model = Conv2D(64, (3, 3), padding='same', kernel_initializer='he_normal')(model)\n",
        "model = Activation('relu')(model)\n",
        "model = Conv2D(64, (3, 3), padding='same', kernel_initializer='he_normal')(model)\n",
        "model = Activation('relu')(model)\n",
        "\n",
        "model = Conv2D(64, (3, 3), padding='same', kernel_initializer='he_normal')(model)\n",
        "model = Activation('relu')(model)\n",
        "model = Conv2D(64, (3, 3), padding='same', kernel_initializer='he_normal')(model)\n",
        "model = Activation('relu')(model)\n",
        "model = Conv2D(64, (3, 3), padding='same', kernel_initializer='he_normal')(model)\n",
        "model = Activation('relu')(model)\n",
        "model = Conv2D(64, (3, 3), padding='same', kernel_initializer='he_normal')(model)\n",
        "model = Activation('relu')(model)\n",
        "model = Conv2D(64, (3, 3), padding='same', kernel_initializer='he_normal')(model)\n",
        "model = Activation('relu')(model)\n",
        "\n",
        "model = Conv2D(64, (3, 3), padding='same', kernel_initializer='he_normal')(model)\n",
        "model = Activation('relu')(model)\n",
        "model = Conv2D(64, (3, 3), padding='same', kernel_initializer='he_normal')(model)\n",
        "model = Activation('relu')(model)\n",
        "model = Conv2D(64, (3, 3), padding='same', kernel_initializer='he_normal')(model)\n",
        "model = Activation('relu')(model)\n",
        "model = Conv2D(64, (3, 3), padding='same', kernel_initializer='he_normal')(model)\n",
        "model = Activation('relu')(model)\n",
        "model = Conv2D(64, (3, 3), padding='same', kernel_initializer='he_normal')(model)\n",
        "model = Activation('relu')(model)\n",
        "\n",
        "model = Conv2D(64, (3, 3), padding='same', kernel_initializer='he_normal')(model)\n",
        "model = Activation('relu')(model)\n",
        "model = Conv2D(64, (3, 3), padding='same', kernel_initializer='he_normal')(model)\n",
        "model = Activation('relu')(model)\n",
        "model = Conv2D(64, (3, 3), padding='same', kernel_initializer='he_normal')(model)\n",
        "model = Activation('relu')(model)\n",
        "model = Conv2D(64, (3, 3), padding='same', kernel_initializer='he_normal')(model)\n",
        "model = Activation('relu')(model)\n",
        "model = Conv2D(1, (3, 3), padding='same', kernel_initializer='he_normal')(model)\n",
        "res_img = model\n",
        "\n",
        "output_img = add([res_img, input_img])\n",
        "\n",
        "model = Model(input_img, output_img)\n",
        "\n",
        "model.compile(loss=MeanSquaredError(),\n",
        "              optimizer=Adam(learning_rate=0.01),\n",
        "              # metrics=['accuracy'])\n",
        "              metrics=[PSNRLoss])"
      ],
      "execution_count": null,
      "outputs": []
    },
    {
      "cell_type": "markdown",
      "metadata": {
        "id": "WN8m_etxMUpO",
        "colab_type": "text"
      },
      "source": [
        "# Load Weights"
      ]
    },
    {
      "cell_type": "code",
      "metadata": {
        "id": "u9obF-HWa7Bp",
        "colab_type": "code",
        "colab": {
          "base_uri": "https://localhost:8080/",
          "height": 159
        },
        "outputId": "5ff5e4fa-c21f-4c2f-9873-07de2a1e8709"
      },
      "source": [
        "! unzip \"/content/drive/My Drive/ISRO SAC Off Campus/5-25km/ckpts_5_25_new.zip\""
      ],
      "execution_count": null,
      "outputs": [
        {
          "output_type": "stream",
          "text": [
            "Archive:  /content/drive/My Drive/ISRO SAC Off Campus/5-25km/ckpts_5_25_new.zip\n",
            "   creating: ckpts_5_25_new/\n",
            "  inflating: ckpts_5_25_new/cp-0183.ckpt.data-00000-of-00002  \n",
            "  inflating: ckpts_5_25_new/cp-0116.ckpt.data-00000-of-00002  \n",
            "  inflating: ckpts_5_25_new/cp-0183.ckpt.data-00001-of-00002  \n",
            "  inflating: ckpts_5_25_new/cp-0183.ckpt.index  \n",
            "  inflating: ckpts_5_25_new/cp-0116.ckpt.data-00001-of-00002  \n",
            "  inflating: ckpts_5_25_new/cp-0116.ckpt.index  \n"
          ],
          "name": "stdout"
        }
      ]
    },
    {
      "cell_type": "code",
      "metadata": {
        "id": "K9DzeqTkis2A",
        "colab_type": "code",
        "colab": {
          "base_uri": "https://localhost:8080/",
          "height": 35
        },
        "outputId": "de68dd2b-37c3-4750-b6f3-c7256115a2ec"
      },
      "source": [
        "model.load_weights('ckpts_5_25_new/cp-0183.ckpt')"
      ],
      "execution_count": null,
      "outputs": [
        {
          "output_type": "execute_result",
          "data": {
            "text/plain": [
              "<tensorflow.python.training.tracking.util.CheckpointLoadStatus at 0x7f909d93ea90>"
            ]
          },
          "metadata": {
            "tags": []
          },
          "execution_count": 36
        }
      ]
    },
    {
      "cell_type": "markdown",
      "metadata": {
        "id": "qiVuLxDPMaVm",
        "colab_type": "text"
      },
      "source": [
        "# Load Data"
      ]
    },
    {
      "cell_type": "markdown",
      "metadata": {
        "id": "rA3nV7PsMevL",
        "colab_type": "text"
      },
      "source": [
        "## Train Data"
      ]
    },
    {
      "cell_type": "code",
      "metadata": {
        "id": "-u9DoHYvM7po",
        "colab_type": "code",
        "colab": {}
      },
      "source": [
        "import h5py"
      ],
      "execution_count": null,
      "outputs": []
    },
    {
      "cell_type": "code",
      "metadata": {
        "id": "CsF6vMFHOA7L",
        "colab_type": "code",
        "colab": {}
      },
      "source": [
        "file_name='/content/drive/My Drive/ISRO SAC Off Campus/5-25km/low_1800patches_126days.h5'\n",
        "data= h5py.File(file_name, 'r')\n",
        "X=data['samples'][0:1000]"
      ],
      "execution_count": null,
      "outputs": []
    },
    {
      "cell_type": "code",
      "metadata": {
        "id": "HoycJ4DdOj_L",
        "colab_type": "code",
        "colab": {}
      },
      "source": [
        "file_name='/content/drive/My Drive/ISRO SAC Off Campus/5-25km/high_1800patches_126days.h5'\n",
        "data= h5py.File(file_name, 'r')\n",
        "Y=data['samples'][0:1000]"
      ],
      "execution_count": null,
      "outputs": []
    },
    {
      "cell_type": "markdown",
      "metadata": {
        "id": "qmtd66F5PDpy",
        "colab_type": "text"
      },
      "source": [
        "# Model Predict"
      ]
    },
    {
      "cell_type": "code",
      "metadata": {
        "id": "8SFlXVbFdNo-",
        "colab_type": "code",
        "colab": {}
      },
      "source": [
        "def psnr(y_true, y_pred):\n",
        "    assert y_true.shape == y_pred.shape, \"Cannot calculate PSNR. Input shapes not same.\" \\\n",
        "                                         \" y_true shape = %s, y_pred shape = %s\" % (str(y_true.shape),\n",
        "                                                                                   str(y_pred.shape))\n",
        "\n",
        "    return -10. * np.log10(np.mean(np.square(y_pred - y_true)))"
      ],
      "execution_count": null,
      "outputs": []
    },
    {
      "cell_type": "code",
      "metadata": {
        "id": "tmWcLwvqlBzR",
        "colab_type": "code",
        "colab": {
          "base_uri": "https://localhost:8080/",
          "height": 35
        },
        "outputId": "5fb3e364-8cf9-47ac-d9ce-28f0b44993bc"
      },
      "source": [
        "model.load_weights('/content/drive/My Drive/ISRO SAC Off Campus/5-25km/cp-0036.ckpt')"
      ],
      "execution_count": null,
      "outputs": [
        {
          "output_type": "execute_result",
          "data": {
            "text/plain": [
              "<tensorflow.python.training.tracking.util.CheckpointLoadStatus at 0x7fdd2a4b3c50>"
            ]
          },
          "metadata": {
            "tags": []
          },
          "execution_count": 18
        }
      ]
    },
    {
      "cell_type": "code",
      "metadata": {
        "id": "_V-hvH_WGr7D",
        "colab_type": "code",
        "colab": {
          "base_uri": "https://localhost:8080/",
          "height": 35
        },
        "outputId": "4e8932f4-e64f-4a51-c9d7-e03d0f4eb68a"
      },
      "source": [
        "psnr(X, Y) "
      ],
      "execution_count": null,
      "outputs": [
        {
          "output_type": "execute_result",
          "data": {
            "text/plain": [
              "46.35356539795154"
            ]
          },
          "metadata": {
            "tags": []
          },
          "execution_count": 21
        }
      ]
    },
    {
      "cell_type": "code",
      "metadata": {
        "id": "SK4N-FBCPHBE",
        "colab_type": "code",
        "colab": {}
      },
      "source": [
        "predict_1=model.predict(X)"
      ],
      "execution_count": null,
      "outputs": []
    },
    {
      "cell_type": "code",
      "metadata": {
        "id": "Ihe2KQ4ezm0b",
        "colab_type": "code",
        "colab": {
          "base_uri": "https://localhost:8080/",
          "height": 35
        },
        "outputId": "557e336b-3a69-4aea-f29c-9dfbb87a7ea7"
      },
      "source": [
        "psnr(predict_1, Y) #5-25"
      ],
      "execution_count": null,
      "outputs": [
        {
          "output_type": "execute_result",
          "data": {
            "text/plain": [
              "46.3608709381584"
            ]
          },
          "metadata": {
            "tags": []
          },
          "execution_count": 23
        }
      ]
    },
    {
      "cell_type": "markdown",
      "metadata": {
        "id": "8PALLzi0dkgf",
        "colab_type": "text"
      },
      "source": [
        "# View the Subimages"
      ]
    },
    {
      "cell_type": "code",
      "metadata": {
        "id": "tSmDkHA5eph_",
        "colab_type": "code",
        "colab": {}
      },
      "source": [
        "def visible_arrays(trainX):\n",
        "  \"\"\"trainX is the array which has normalised integers right out of the CNN\n",
        "      max_pixel_X is the constant to re-normalise trainX\"\"\"\n",
        "  # trainX_view=ma.masked_equal(trainX*norm_constant, 0)\n",
        "  trainX=np.clip(trainX, 0, 1)\n",
        "  trainX_view=ma.masked_equal(trainX, 0)\n",
        "  return trainX_view"
      ],
      "execution_count": null,
      "outputs": []
    },
    {
      "cell_type": "code",
      "metadata": {
        "id": "PJQfPKJLfIX5",
        "colab_type": "code",
        "colab": {}
      },
      "source": [
        "def view_patch(trainX_view, index):\n",
        "  \"\"\"trainX_view is the masked array which was formed from function create_masked_array\n",
        "    image index is the image you want to see\"\"\"\n",
        "  sst_image=trainX_view[index].reshape(50,50)\n",
        "  plt.pcolormesh(sst_image)"
      ],
      "execution_count": null,
      "outputs": []
    },
    {
      "cell_type": "code",
      "metadata": {
        "id": "kaR-sXAciJgg",
        "colab_type": "code",
        "colab": {}
      },
      "source": [
        "X_view=visible_arrays(X)"
      ],
      "execution_count": null,
      "outputs": []
    },
    {
      "cell_type": "code",
      "metadata": {
        "id": "cLUbVu39SPNb",
        "colab_type": "code",
        "colab": {}
      },
      "source": [
        "Y_view=visible_arrays(Y)"
      ],
      "execution_count": null,
      "outputs": []
    },
    {
      "cell_type": "markdown",
      "metadata": {
        "id": "B6a2PGYdFG21",
        "colab_type": "text"
      },
      "source": [
        "Check 32-Bit "
      ]
    },
    {
      "cell_type": "code",
      "metadata": {
        "id": "d4tmwYqFbGnF",
        "colab_type": "code",
        "colab": {}
      },
      "source": [
        "X_32=np.float32(X)\n",
        "X32_view=visible_arrays(X_32)"
      ],
      "execution_count": null,
      "outputs": []
    },
    {
      "cell_type": "code",
      "metadata": {
        "id": "j8qIFGR3b59a",
        "colab_type": "code",
        "colab": {}
      },
      "source": [
        "Y_32=np.float32(Y)\n",
        "Y32_view=visible_arrays(Y_32)"
      ],
      "execution_count": null,
      "outputs": []
    },
    {
      "cell_type": "code",
      "metadata": {
        "id": "511wPkQDV6Uf",
        "colab_type": "code",
        "colab": {}
      },
      "source": [
        "pred_view1=visible_arrays(predict_1)"
      ],
      "execution_count": null,
      "outputs": []
    },
    {
      "cell_type": "code",
      "metadata": {
        "id": "jmUr26TkZ8QI",
        "colab_type": "code",
        "colab": {
          "base_uri": "https://localhost:8080/",
          "height": 283
        },
        "outputId": "5ff81808-1f7f-4c9b-9a9d-44dfdf064afa"
      },
      "source": [
        "image=pred_view1[225].reshape((66,66))\n",
        "plt.pcolormesh(image)\n",
        "# plt.clim(vmin=0.84, vmax=0.92)\n",
        "plt.colorbar()"
      ],
      "execution_count": null,
      "outputs": [
        {
          "output_type": "execute_result",
          "data": {
            "text/plain": [
              "<matplotlib.colorbar.Colorbar at 0x7fdd266c8128>"
            ]
          },
          "metadata": {
            "tags": []
          },
          "execution_count": 41
        },
        {
          "output_type": "display_data",
          "data": {
            "image/png": "[encoded data removed]",
            "text/plain": [
              "<Figure size 432x288 with 2 Axes>"
            ]
          },
          "metadata": {
            "tags": [],
            "needs_background": "light"
          }
        }
      ]
    },
    {
      "cell_type": "code",
      "metadata": {
        "id": "W7rmQPCalfsB",
        "colab_type": "code",
        "colab": {
          "base_uri": "https://localhost:8080/",
          "height": 283
        },
        "outputId": "d6a5b9a4-1eb5-4904-f5f3-46302cdda33a"
      },
      "source": [
        "img_low=X[225].reshape((66,66))\n",
        "plt.pcolormesh(img_low)\n",
        "# plt.clim(vmin=0.84, vmax=0.92)\n",
        "plt.colorbar()"
      ],
      "execution_count": null,
      "outputs": [
        {
          "output_type": "execute_result",
          "data": {
            "text/plain": [
              "<matplotlib.colorbar.Colorbar at 0x7fdd265a44a8>"
            ]
          },
          "metadata": {
            "tags": []
          },
          "execution_count": 43
        },
        {
          "output_type": "display_data",
          "data": {
            "image/png": "[encoded data removed]",
            "text/plain": [
              "<Figure size 432x288 with 2 Axes>"
            ]
          },
          "metadata": {
            "tags": [],
            "needs_background": "light"
          }
        }
      ]
    },
    {
      "cell_type": "code",
      "metadata": {
        "id": "rwJZgM2yz9yZ",
        "colab_type": "code",
        "colab": {
          "base_uri": "https://localhost:8080/",
          "height": 287
        },
        "outputId": "4ed72603-a0ff-4732-f542-ff04e174ace3"
      },
      "source": [
        "img_high=Y[225].reshape((66,66))\n",
        "plt.pcolormesh(img_high)\n",
        "plt.clim(vmin=0.900, vmax=0.925)\n",
        "plt.colorbar()"
      ],
      "execution_count": null,
      "outputs": [
        {
          "output_type": "execute_result",
          "data": {
            "text/plain": [
              "<matplotlib.colorbar.Colorbar at 0x7fdd263fd3c8>"
            ]
          },
          "metadata": {
            "tags": []
          },
          "execution_count": 45
        },
        {
          "output_type": "display_data",
          "data": {
            "image/png": "[encoded data removed]",
            "text/plain": [
              "<Figure size 432x288 with 2 Axes>"
            ]
          },
          "metadata": {
            "tags": [],
            "needs_background": "light"
          }
        }
      ]
    }
  ]
}